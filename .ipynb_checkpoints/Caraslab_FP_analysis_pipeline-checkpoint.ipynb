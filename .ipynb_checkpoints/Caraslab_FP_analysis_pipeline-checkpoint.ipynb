{
 "cells": [
  {
   "metadata": {},
   "cell_type": "markdown",
   "source": [
    "# Caras lab ephys analysis pipeline\n",
    "This pipeline is intended to be run after extracting behavioral timestamps and neuron spike times\n",
    "\n",
    "Files need to be organized in a specific folder structure or file paths need to be changed"
   ],
   "id": "344dc9b19a3e6c21"
  },
  {
   "metadata": {},
   "cell_type": "markdown",
   "source": [
    "## Imports and global plotting parameters\n",
    "Specific imports can be found within each function"
   ],
   "id": "8adc8165366abc8a"
  },
  {
   "metadata": {
    "ExecuteTime": {
     "end_time": "2024-04-25T20:20:10.436355Z",
     "start_time": "2024-04-25T20:19:58.873640Z"
    }
   },
   "cell_type": "code",
   "source": [
    "%load_ext autoreload\n",
    "%autoreload 2\n",
    "\n",
    "from os import remove\n",
    "import warnings\n",
    "from platform import system\n",
    "from os.path import sep\n",
    "from re import split\n",
    "\n",
    "from multiprocessing import Pool, cpu_count\n",
    "from glob import glob\n",
    "\n",
    "from matplotlib.pyplot import rcParams\n",
    "\n",
    "from helpers.caraslab_run_FP_pipeline import run_pipeline\n",
    "from helpers.recalculate_ePsych_responseLatency import recalculate_ePsych_responseLatency\n",
    "\n",
    "warnings.filterwarnings(\"ignore\")\n",
    "\n",
    "# Tweak the regex file separator for cross-platform compatibility\n",
    "if system() == 'Windows':\n",
    "    REGEX_SEP = sep * 2\n",
    "else:\n",
    "    REGEX_SEP = sep\n",
    "\n",
    "# Set plotting parameters\n",
    "label_font_size = 11\n",
    "tick_label_size = 7\n",
    "legend_font_size = 6\n",
    "line_thickness = 1\n",
    "\n",
    "rcParams['figure.dpi'] = 600\n",
    "rcParams['pdf.fonttype'] = 42\n",
    "rcParams['ps.fonttype'] = 42\n",
    "rcParams['font.family'] = 'Arial'\n",
    "rcParams['font.weight'] = 'regular'\n",
    "rcParams['axes.labelweight'] = 'regular'\n",
    "\n",
    "rcParams['font.size'] = label_font_size\n",
    "rcParams['axes.labelsize'] = label_font_size\n",
    "rcParams['axes.titlesize'] = label_font_size\n",
    "rcParams['axes.linewidth'] = line_thickness\n",
    "rcParams['legend.fontsize'] = legend_font_size\n",
    "rcParams['xtick.labelsize'] = tick_label_size\n",
    "rcParams['ytick.labelsize'] = tick_label_size\n",
    "rcParams['errorbar.capsize'] = label_font_size\n",
    "rcParams['lines.markersize'] = line_thickness\n",
    "rcParams['lines.linewidth'] = line_thickness\n",
    "\n",
    "rcParams['figure.figsize'] = (2.5, 3)\n"
   ],
   "id": "30ef205fa68127e6",
   "outputs": [],
   "execution_count": 1
  },
  {
   "metadata": {},
   "cell_type": "markdown",
   "source": "## Set global paths and variables",
   "id": "205fcc63f736d166"
  },
  {
   "metadata": {
    "ExecuteTime": {
     "end_time": "2024-04-25T20:07:46.314446Z",
     "start_time": "2024-04-25T20:07:44.119782Z"
    }
   },
   "cell_type": "code",
   "source": [
    "DATA_PATH = r'G:\\My Drive\\Documents\\PycharmProjects\\Photometry_processing\\Data_AAVrg-GCaMP8s-ACx_fiber-VO'\n",
    "\n",
    "# Specify I/O paths and run parameters\n",
    "SETTINGS_DICT = {\n",
    "    'EXPERIMENT_TAG': 'test',  # Appends to start of summary files\n",
    "    'EXPERIMENT_TYPE': 'AversiveAM',  # 1IFC or AversiveAM\n",
    "\n",
    "    'SIGNALS_PATH': DATA_PATH + sep + 'Whole session signal',\n",
    "    'KEYS_PATH': DATA_PATH + sep + 'Key files',\n",
    "    'OUTPUT_PATH': DATA_PATH + sep + 'Output',\n",
    "    \n",
    "    # in seconds; for zscoring and AUC calculation\n",
    "    'BASELINE_START_FOR_ZSCORE': 0.25,  # Affects plotting and AUC calculation\n",
    "    'BASELINE_END_FOR_ZSCORE': 0,  # Affects AUC calculation\n",
    "    'AUC_WINDOW_START': 0,  # Affects AUC calculation\n",
    "    'AUC_WINDOW_END': 2,  # Affects AUC calculation\n",
    "    'RESPONSE_WINDOW_DURATION': 4,  # Does not affect AUC calculation; only for plotting and signal extraction\n",
    "     \n",
    "    # Ignore trials with responses shorter than this (indicative of impulsive behavior for 1IFC task).\n",
    "    # Keep at 0 for AversiveAM task or if not desired\n",
    "    'RESPONSE_LATENCY_FILTER': 0.,\n",
    "    \n",
    "    # Shock is specific to AversiveAM task and only used if you need to recalculate response latencies.\n",
    "    # Older versions of RPvds did not record latencies properly\n",
    "    'SHOCK_START_END': [0.95, 1.3],\n",
    "    \n",
    "    # Only affects plot shading but keep this in mind when calculating AUC\n",
    "    'TARGET_SOUND_ONSET': 0.,  \n",
    "    'TARGET_SOUND_OFFSET': 1.,\n",
    "    \n",
    "    # For multiprocessing. Defaults to 4/5s of the number of cores\n",
    "    'NUMBER_OF_CORES': 4 * cpu_count() // 5,\n",
    "    \n",
    "    # Only run these cells/subjects/sessions or None to run all\n",
    "    'SESSIONS_TO_RUN': ['220118'],  # You can specify parts of the file name too\n",
    "    'SESSIONS_TO_EXCLUDE': None,\n",
    "    \n",
    "    'CONCAT_SAME_DAY': True,\n",
    "    \n",
    "    'DEBUG_RUN': False,  # Turns off multiprocessing for easier debugging\n",
    "    \n",
    "    'OVERWRITE_PREVIOUS_CSV': True,  # False: appends to existing firing rate CSV file\n",
    "\n",
    "    # If None: will be estimated based on diff(Time_s) in the csv file\n",
    "    'SAMPLING_RATE': None,\n",
    "    \n",
    "    'SUBTRACT_405': True,\n",
    "    \n",
    "    # Below is a switchboard of functions you desire to run from the pipeline\n",
    "    # If you change your mind later, you can just run the ones you want and the code will add it to existing JSON files\n",
    "    'PIPELINE_SWITCHBOARD': {\n",
    "        # Only relevant to AversiveAM task when recorded using older RPvds circuit\n",
    "        'recalculate_ePsych_responseLatency': True,\n",
    "        \n",
    "        # Relevant for both AversiveAM and 1IFC tasks\n",
    "        'extract_trial_zscores': True,\n",
    "        'plot_trial_zscores': True,\n",
    "        'plot_AMDepth_zscores': True,\n",
    "        'plot_heatmaps_by_subject': True\n",
    "    }\n",
    "}\n"
   ],
   "id": "5f703569dd7af350",
   "outputs": [],
   "execution_count": 22
  },
  {
   "metadata": {},
   "cell_type": "markdown",
   "source": "## Initial file matching then run pipelines",
   "id": "731e823a8fb4dcf8"
  },
  {
   "metadata": {
    "ExecuteTime": {
     "end_time": "2024-04-25T20:18:04.716171Z",
     "start_time": "2024-04-25T20:17:32.703880Z"
    }
   },
   "cell_type": "code",
   "source": [
    "# Clear older multiprocessing temp files if they exist\n",
    "process_tempfiles = glob(SETTINGS_DICT['OUTPUT_PATH'] + sep + '*_tempfile_*.csv')\n",
    "[remove(f) for f in process_tempfiles]\n",
    "\n",
    "signals_path = glob(SETTINGS_DICT['SIGNALS_PATH'] + sep + '*dff.csv')\n",
    "\n",
    "if SETTINGS_DICT['SESSIONS_TO_RUN'] is not None:\n",
    "    signals_path = [path for path in signals_path if any([chosen for chosen in SETTINGS_DICT['SESSIONS_TO_RUN'] if chosen in path])]\n",
    "\n",
    "if SETTINGS_DICT['SESSIONS_TO_EXCLUDE'] is not None:\n",
    "    signals_path = [path for path in signals_path if not any([chosen for chosen in SETTINGS_DICT['SESSIONS_TO_RUN'] if chosen in path])]\n",
    "\n",
    "# Identify sessions from the same subject in a day if desired. Otherwise run session at a time\n",
    "subj_session_list = [split('_*_', split(REGEX_SEP, path)[-1])[0:2] for path in signals_path]\n",
    "date_list = [split('-*-', subj_session[1])[3] for subj_session in subj_session_list]\n",
    "subj_date_list = [(subj_session[0], cur_date) for subj_session, cur_date in zip(subj_session_list, date_list)]\n",
    "\n",
    "# Generate a list of inputs to be passed to each worker\n",
    "input_lists = list()\n",
    "run_list = list()\n",
    "if SETTINGS_DICT['CONCAT_SAME_DAY']:\n",
    "    # Identify sessions from the same subject in a day\n",
    "    subj_session_list = [split('_*_', split(REGEX_SEP, path)[-1])[0:2] for path in signals_path]\n",
    "    date_list = [split('-*-', subj_session[1])[3] for subj_session in subj_session_list]\n",
    "    run_list = [(subj_session[0], cur_date) for subj_session, cur_date in zip(subj_session_list, date_list)]\n",
    "else:\n",
    "    run_list = signals_path\n",
    "    \n",
    "for dummy_idx, unique_runID in enumerate(run_list):\n",
    "    if SETTINGS_DICT['CONCAT_SAME_DAY']:\n",
    "        (unique_subj, unique_date) = unique_runID\n",
    "        subj_paths = [path for path in signals_path if unique_subj in path]\n",
    "        cur_date_paths = [path for path in subj_paths if unique_date in path]\n",
    "    else:\n",
    "        cur_date_paths = (unique_runID,)\n",
    "    \n",
    "    # Do not multiprocess this\n",
    "    if SETTINGS_DICT['PIPELINE_SWITCHBOARD']['recalculate_ePsych_responseLatency'] and SETTINGS_DICT['EXPERIMENT_TYPE'] == 'AversiveAM':\n",
    "        recalculate_ePsych_responseLatency((cur_date_paths, SETTINGS_DICT))\n",
    "        \n",
    "    if SETTINGS_DICT['DEBUG_RUN']:\n",
    "        run_pipeline((cur_date_paths, SETTINGS_DICT))\n",
    "    else:\n",
    "        input_lists.append((cur_date_paths, SETTINGS_DICT))\n",
    "\n",
    "if not SETTINGS_DICT['DEBUG_RUN']:\n",
    "    pool = Pool(SETTINGS_DICT['NUMBER_OF_CORES'])\n",
    "\n",
    "    # # Feed each worker with all memory paths from one unit\n",
    "    pool_map_result = pool.map(run_pipeline, input_lists)\n",
    "\n",
    "    pool.close()\n",
    "\n",
    "    pool.join()\n",
    "    "
   ],
   "id": "2d5a40fc433194ab",
   "outputs": [
    {
     "name": "stdout",
     "output_type": "stream",
     "text": [
      "Spout offset not registered properly in: G:\\My Drive\\Documents\\PycharmProjects\\Photometry_processing\\Data_AAVrg-GCaMP8s-ACx_fiber-VO\\Whole session signal\\SUBJ-ID-279_FP-Aversive-AM-220118-103413_dff.csv\n",
      "TrialID: 361\n",
      "Spout offset not registered properly in: G:\\My Drive\\Documents\\PycharmProjects\\Photometry_processing\\Data_AAVrg-GCaMP8s-ACx_fiber-VO\\Whole session signal\\SUBJ-ID-279_FP-Aversive-AM-220118-103413_dff.csv\n",
      "TrialID: 482\n",
      "Spout offset not registered properly in: G:\\My Drive\\Documents\\PycharmProjects\\Photometry_processing\\Data_AAVrg-GCaMP8s-ACx_fiber-VO\\Whole session signal\\SUBJ-ID-279_FP-Aversive-AM-220118-103413_dff.csv\n",
      "TrialID: 361\n",
      "Spout offset not registered properly in: G:\\My Drive\\Documents\\PycharmProjects\\Photometry_processing\\Data_AAVrg-GCaMP8s-ACx_fiber-VO\\Whole session signal\\SUBJ-ID-279_FP-Aversive-AM-220118-103413_dff.csv\n",
      "TrialID: 482\n",
      "Spout offset not registered properly in: G:\\My Drive\\Documents\\PycharmProjects\\Photometry_processing\\Data_AAVrg-GCaMP8s-ACx_fiber-VO\\Whole session signal\\SUBJ-ID-276_FP-Aversive-AM-220118-095506_dff.csv\n",
      "TrialID: 316\n"
     ]
    },
    {
     "ename": "OSError",
     "evalue": "[Errno 22] Invalid argument",
     "output_type": "error",
     "traceback": [
      "\u001B[1;31m---------------------------------------------------------------------------\u001B[0m",
      "\u001B[1;31mRemoteTraceback\u001B[0m                           Traceback (most recent call last)",
      "\u001B[1;31mRemoteTraceback\u001B[0m: \n\"\"\"\nTraceback (most recent call last):\n  File \"G:\\My Drive\\Documents\\PycharmProjects\\Caraslab_FP_analysis_pipeline\\helpers\\extract_FP_trial_zscores.py\", line 397, in run_zscore_extraction\n    pdf.savefig()\n  File \"G:\\My Drive\\Documents\\PycharmProjects\\Caraslab_FP_analysis_pipeline\\.venv\\Lib\\site-packages\\matplotlib\\backends\\backend_pdf.py\", line 2766, in savefig\n    figure.savefig(self, format=\"pdf\", **kwargs)\n  File \"G:\\My Drive\\Documents\\PycharmProjects\\Caraslab_FP_analysis_pipeline\\.venv\\Lib\\site-packages\\matplotlib\\figure.py\", line 3390, in savefig\n    self.canvas.print_figure(fname, **kwargs)\n  File \"G:\\My Drive\\Documents\\PycharmProjects\\Caraslab_FP_analysis_pipeline\\.venv\\Lib\\site-packages\\matplotlib\\backend_bases.py\", line 2193, in print_figure\n    result = print_method(\n             ^^^^^^^^^^^^^\n  File \"G:\\My Drive\\Documents\\PycharmProjects\\Caraslab_FP_analysis_pipeline\\.venv\\Lib\\site-packages\\matplotlib\\backend_bases.py\", line 2043, in <lambda>\n    print_method = functools.wraps(meth)(lambda *args, **kwargs: meth(\n                                                                 ^^^^^\n  File \"G:\\My Drive\\Documents\\PycharmProjects\\Caraslab_FP_analysis_pipeline\\.venv\\Lib\\site-packages\\matplotlib\\backends\\backend_pdf.py\", line 2807, in print_pdf\n    self.figure.draw(renderer)\n  File \"G:\\My Drive\\Documents\\PycharmProjects\\Caraslab_FP_analysis_pipeline\\.venv\\Lib\\site-packages\\matplotlib\\artist.py\", line 95, in draw_wrapper\n    result = draw(artist, renderer, *args, **kwargs)\n             ^^^^^^^^^^^^^^^^^^^^^^^^^^^^^^^^^^^^^^^\n  File \"G:\\My Drive\\Documents\\PycharmProjects\\Caraslab_FP_analysis_pipeline\\.venv\\Lib\\site-packages\\matplotlib\\artist.py\", line 72, in draw_wrapper\n    return draw(artist, renderer)\n           ^^^^^^^^^^^^^^^^^^^^^^\n  File \"G:\\My Drive\\Documents\\PycharmProjects\\Caraslab_FP_analysis_pipeline\\.venv\\Lib\\site-packages\\matplotlib\\figure.py\", line 3154, in draw\n    mimage._draw_list_compositing_images(\n  File \"G:\\My Drive\\Documents\\PycharmProjects\\Caraslab_FP_analysis_pipeline\\.venv\\Lib\\site-packages\\matplotlib\\image.py\", line 132, in _draw_list_compositing_images\n    a.draw(renderer)\n  File \"G:\\My Drive\\Documents\\PycharmProjects\\Caraslab_FP_analysis_pipeline\\.venv\\Lib\\site-packages\\matplotlib\\artist.py\", line 72, in draw_wrapper\n    return draw(artist, renderer)\n           ^^^^^^^^^^^^^^^^^^^^^^\n  File \"G:\\My Drive\\Documents\\PycharmProjects\\Caraslab_FP_analysis_pipeline\\.venv\\Lib\\site-packages\\matplotlib\\axes\\_base.py\", line 3070, in draw\n    mimage._draw_list_compositing_images(\n  File \"G:\\My Drive\\Documents\\PycharmProjects\\Caraslab_FP_analysis_pipeline\\.venv\\Lib\\site-packages\\matplotlib\\image.py\", line 132, in _draw_list_compositing_images\n    a.draw(renderer)\n  File \"G:\\My Drive\\Documents\\PycharmProjects\\Caraslab_FP_analysis_pipeline\\.venv\\Lib\\site-packages\\matplotlib\\artist.py\", line 72, in draw_wrapper\n    return draw(artist, renderer)\n           ^^^^^^^^^^^^^^^^^^^^^^\n  File \"G:\\My Drive\\Documents\\PycharmProjects\\Caraslab_FP_analysis_pipeline\\.venv\\Lib\\site-packages\\matplotlib\\collections.py\", line 1005, in draw\n    super().draw(renderer)\n  File \"G:\\My Drive\\Documents\\PycharmProjects\\Caraslab_FP_analysis_pipeline\\.venv\\Lib\\site-packages\\matplotlib\\artist.py\", line 72, in draw_wrapper\n    return draw(artist, renderer)\n           ^^^^^^^^^^^^^^^^^^^^^^\n  File \"G:\\My Drive\\Documents\\PycharmProjects\\Caraslab_FP_analysis_pipeline\\.venv\\Lib\\site-packages\\matplotlib\\collections.py\", line 423, in draw\n    renderer.draw_path_collection(\n  File \"G:\\My Drive\\Documents\\PycharmProjects\\Caraslab_FP_analysis_pipeline\\.venv\\Lib\\site-packages\\matplotlib\\backends\\backend_pdf.py\", line 2068, in draw_path_collection\n    return RendererBase.draw_path_collection(\n           ^^^^^^^^^^^^^^^^^^^^^^^^^^^^^^^^^^\n  File \"G:\\My Drive\\Documents\\PycharmProjects\\Caraslab_FP_analysis_pipeline\\.venv\\Lib\\site-packages\\matplotlib\\backend_bases.py\", line 272, in draw_path_collection\n    self.draw_path(gc0, path, transform, rgbFace)\n  File \"G:\\My Drive\\Documents\\PycharmProjects\\Caraslab_FP_analysis_pipeline\\.venv\\Lib\\site-packages\\matplotlib\\backends\\backend_pdf.py\", line 2021, in draw_path\n    self.file.writePath(\n  File \"G:\\My Drive\\Documents\\PycharmProjects\\Caraslab_FP_analysis_pipeline\\.venv\\Lib\\site-packages\\matplotlib\\backends\\backend_pdf.py\", line 1893, in writePath\n    self.output(*cmds)\n  File \"G:\\My Drive\\Documents\\PycharmProjects\\Caraslab_FP_analysis_pipeline\\.venv\\Lib\\site-packages\\matplotlib\\backends\\backend_pdf.py\", line 874, in output\n    self.write(_fill([pdfRepr(x) for x in data]))\n  File \"G:\\My Drive\\Documents\\PycharmProjects\\Caraslab_FP_analysis_pipeline\\.venv\\Lib\\site-packages\\matplotlib\\backends\\backend_pdf.py\", line 871, in write\n    self.currentstream.write(data)\n  File \"G:\\My Drive\\Documents\\PycharmProjects\\Caraslab_FP_analysis_pipeline\\.venv\\Lib\\site-packages\\matplotlib\\backends\\backend_pdf.py\", line 604, in write\n    self.file.write(compressed)\nOSError: [Errno 22] Invalid argument\n\nDuring handling of the above exception, another exception occurred:\n\nTraceback (most recent call last):\n  File \"C:\\Users\\caraslab\\AppData\\Local\\Programs\\Python\\Python312\\Lib\\multiprocessing\\pool.py\", line 125, in worker\n    result = (True, func(*args, **kwds))\n                    ^^^^^^^^^^^^^^^^^^^\n  File \"C:\\Users\\caraslab\\AppData\\Local\\Programs\\Python\\Python312\\Lib\\multiprocessing\\pool.py\", line 48, in mapstar\n    return list(map(*args))\n           ^^^^^^^^^^^^^^^^\n  File \"G:\\My Drive\\Documents\\PycharmProjects\\Caraslab_FP_analysis_pipeline\\helpers\\caraslab_run_FP_pipeline.py\", line 29, in run_pipeline\n    run_zscore_extraction(input_list)\n  File \"G:\\My Drive\\Documents\\PycharmProjects\\Caraslab_FP_analysis_pipeline\\helpers\\extract_FP_trial_zscores.py\", line 297, in run_zscore_extraction\n    with PdfPages(sep.join([trial_zscore_plots_path, file_name + '.pdf'])) as pdf:\n  File \"G:\\My Drive\\Documents\\PycharmProjects\\Caraslab_FP_analysis_pipeline\\.venv\\Lib\\site-packages\\matplotlib\\backends\\backend_pdf.py\", line 2715, in __exit__\n    self.close()\n  File \"G:\\My Drive\\Documents\\PycharmProjects\\Caraslab_FP_analysis_pipeline\\.venv\\Lib\\site-packages\\matplotlib\\backends\\backend_pdf.py\", line 2729, in close\n    self._file.close()\n  File \"G:\\My Drive\\Documents\\PycharmProjects\\Caraslab_FP_analysis_pipeline\\.venv\\Lib\\site-packages\\matplotlib\\backends\\backend_pdf.py\", line 865, in close\n    self.fh.close()\nOSError: [Errno 22] Invalid argument\n\"\"\"",
      "\nThe above exception was the direct cause of the following exception:\n",
      "\u001B[1;31mOSError\u001B[0m                                   Traceback (most recent call last)",
      "Cell \u001B[1;32mIn[27], line 50\u001B[0m\n\u001B[0;32m     47\u001B[0m pool \u001B[38;5;241m=\u001B[39m Pool(SETTINGS_DICT[\u001B[38;5;124m'\u001B[39m\u001B[38;5;124mNUMBER_OF_CORES\u001B[39m\u001B[38;5;124m'\u001B[39m])\n\u001B[0;32m     49\u001B[0m \u001B[38;5;66;03m# # Feed each worker with all memory paths from one unit\u001B[39;00m\n\u001B[1;32m---> 50\u001B[0m pool_map_result \u001B[38;5;241m=\u001B[39m \u001B[43mpool\u001B[49m\u001B[38;5;241;43m.\u001B[39;49m\u001B[43mmap\u001B[49m\u001B[43m(\u001B[49m\u001B[43mrun_pipeline\u001B[49m\u001B[43m,\u001B[49m\u001B[43m \u001B[49m\u001B[43minput_lists\u001B[49m\u001B[43m)\u001B[49m\n\u001B[0;32m     52\u001B[0m pool\u001B[38;5;241m.\u001B[39mclose()\n\u001B[0;32m     54\u001B[0m pool\u001B[38;5;241m.\u001B[39mjoin()\n",
      "File \u001B[1;32m~\\AppData\\Local\\Programs\\Python\\Python312\\Lib\\multiprocessing\\pool.py:367\u001B[0m, in \u001B[0;36mPool.map\u001B[1;34m(self, func, iterable, chunksize)\u001B[0m\n\u001B[0;32m    362\u001B[0m \u001B[38;5;28;01mdef\u001B[39;00m \u001B[38;5;21mmap\u001B[39m(\u001B[38;5;28mself\u001B[39m, func, iterable, chunksize\u001B[38;5;241m=\u001B[39m\u001B[38;5;28;01mNone\u001B[39;00m):\n\u001B[0;32m    363\u001B[0m \u001B[38;5;250m    \u001B[39m\u001B[38;5;124;03m'''\u001B[39;00m\n\u001B[0;32m    364\u001B[0m \u001B[38;5;124;03m    Apply `func` to each element in `iterable`, collecting the results\u001B[39;00m\n\u001B[0;32m    365\u001B[0m \u001B[38;5;124;03m    in a list that is returned.\u001B[39;00m\n\u001B[0;32m    366\u001B[0m \u001B[38;5;124;03m    '''\u001B[39;00m\n\u001B[1;32m--> 367\u001B[0m     \u001B[38;5;28;01mreturn\u001B[39;00m \u001B[38;5;28;43mself\u001B[39;49m\u001B[38;5;241;43m.\u001B[39;49m\u001B[43m_map_async\u001B[49m\u001B[43m(\u001B[49m\u001B[43mfunc\u001B[49m\u001B[43m,\u001B[49m\u001B[43m \u001B[49m\u001B[43miterable\u001B[49m\u001B[43m,\u001B[49m\u001B[43m \u001B[49m\u001B[43mmapstar\u001B[49m\u001B[43m,\u001B[49m\u001B[43m \u001B[49m\u001B[43mchunksize\u001B[49m\u001B[43m)\u001B[49m\u001B[38;5;241;43m.\u001B[39;49m\u001B[43mget\u001B[49m\u001B[43m(\u001B[49m\u001B[43m)\u001B[49m\n",
      "File \u001B[1;32m~\\AppData\\Local\\Programs\\Python\\Python312\\Lib\\multiprocessing\\pool.py:774\u001B[0m, in \u001B[0;36mApplyResult.get\u001B[1;34m(self, timeout)\u001B[0m\n\u001B[0;32m    772\u001B[0m     \u001B[38;5;28;01mreturn\u001B[39;00m \u001B[38;5;28mself\u001B[39m\u001B[38;5;241m.\u001B[39m_value\n\u001B[0;32m    773\u001B[0m \u001B[38;5;28;01melse\u001B[39;00m:\n\u001B[1;32m--> 774\u001B[0m     \u001B[38;5;28;01mraise\u001B[39;00m \u001B[38;5;28mself\u001B[39m\u001B[38;5;241m.\u001B[39m_value\n",
      "\u001B[1;31mOSError\u001B[0m: [Errno 22] Invalid argument"
     ]
    }
   ],
   "execution_count": 27
  },
  {
   "metadata": {},
   "cell_type": "code",
   "outputs": [],
   "execution_count": null,
   "source": "",
   "id": "b67edec525989975"
  }
 ],
 "metadata": {
  "kernelspec": {
   "display_name": "Python 3",
   "language": "python",
   "name": "python3"
  },
  "language_info": {
   "codemirror_mode": {
    "name": "ipython",
    "version": 2
   },
   "file_extension": ".py",
   "mimetype": "text/x-python",
   "name": "python",
   "nbconvert_exporter": "python",
   "pygments_lexer": "ipython2",
   "version": "2.7.6"
  }
 },
 "nbformat": 4,
 "nbformat_minor": 5
}
